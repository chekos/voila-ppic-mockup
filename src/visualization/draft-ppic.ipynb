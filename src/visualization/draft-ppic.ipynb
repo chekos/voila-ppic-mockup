{
 "cells": [
  {
   "cell_type": "code",
   "execution_count": 1,
   "metadata": {},
   "outputs": [],
   "source": [
    "from ipyleaflet import Map, GeoData, basemaps, LayersControl\n",
    "from ipywidgets import Dropdown, interactive\n",
    "import geopandas as gpd\n",
    "import pandas as pd\n",
    "import json\n",
    "from pathlib import Path\n",
    "from IPython.display import display"
   ]
  },
  {
   "cell_type": "code",
   "execution_count": 2,
   "metadata": {},
   "outputs": [],
   "source": [
    "PROCESSED_DATA = Path(\"../../data/processed/\")"
   ]
  },
  {
   "cell_type": "code",
   "execution_count": 3,
   "metadata": {},
   "outputs": [],
   "source": [
    "datos = gpd.read_file(PROCESSED_DATA / 'CA_data.shp')"
   ]
  },
  {
   "cell_type": "code",
   "execution_count": 4,
   "metadata": {},
   "outputs": [],
   "source": [
    "datos.dropna(inplace = True)"
   ]
  },
  {
   "cell_type": "code",
   "execution_count": 5,
   "metadata": {},
   "outputs": [],
   "source": [
    "datos.crs = {'proj': 'aea',\n",
    " 'lat_1': \"29.5\",\n",
    " 'lat_2': \"45.5\",\n",
    " 'lat_0': \"37.5\",\n",
    " 'lon_0': \"-96\",\n",
    " 'x_0': \"0\",\n",
    " 'y_0': \"0\",\n",
    " 'datum': 'NAD83',\n",
    " 'units': 'm',\n",
    " 'no_defs': \"true\"}"
   ]
  },
  {
   "cell_type": "code",
   "execution_count": 6,
   "metadata": {},
   "outputs": [],
   "source": [
    "datos = datos.to_crs(epsg=4326)"
   ]
  },
  {
   "cell_type": "code",
   "execution_count": 7,
   "metadata": {},
   "outputs": [],
   "source": [
    "def geo_center(df):\n",
    "    _bounds = df.bounds\n",
    "    xmin, xmax, ymin, ymax = _bounds.minx.min(), _bounds.maxx.max(), _bounds.miny.min(), _bounds.maxy.max()\n",
    "    y_center = (ymax + ymin) / 2\n",
    "    x_center = (xmax + xmin) / 2\n",
    "    center = (y_center, x_center)\n",
    "    \n",
    "    return center"
   ]
  },
  {
   "cell_type": "code",
   "execution_count": 8,
   "metadata": {},
   "outputs": [],
   "source": [
    "datos_female = datos[datos['sex'] == 'female'].copy()"
   ]
  },
  {
   "cell_type": "code",
   "execution_count": 9,
   "metadata": {},
   "outputs": [],
   "source": [
    "datos_female['bins'] = pd.cut(datos_female['count'], bins = 5)"
   ]
  },
  {
   "cell_type": "code",
   "execution_count": 10,
   "metadata": {},
   "outputs": [
    {
     "data": {
      "text/plain": [
       "[(153686.0, 305094.0], (1520.96, 153686.0], (607910.0, 759318.0]]\n",
       "Categories (3, interval[float64]): [(1520.96, 153686.0] < (153686.0, 305094.0] < (607910.0, 759318.0]]"
      ]
     },
     "execution_count": 10,
     "metadata": {},
     "output_type": "execute_result"
    }
   ],
   "source": [
    "#datos_female['bins'].unique()"
   ]
  },
  {
   "cell_type": "code",
   "execution_count": 11,
   "metadata": {},
   "outputs": [],
   "source": [
    "datos_female['bins'] = datos_female['bins'].astype(str)"
   ]
  },
  {
   "cell_type": "code",
   "execution_count": 12,
   "metadata": {},
   "outputs": [],
   "source": [
    "_orden = [\"(153686.0, 305094.0]\", \"(1520.96, 153686.0]\", \"(607910.0, 759318.0]\"]\n",
    "_colores = \"#81d1e6\",\"#dc0d12\",[\"#fbe1e1\",]"
   ]
  },
  {
   "cell_type": "code",
   "execution_count": 13,
   "metadata": {},
   "outputs": [],
   "source": [
    "_escala = dict(zip(_orden, _colores))"
   ]
  },
  {
   "cell_type": "code",
   "execution_count": 14,
   "metadata": {},
   "outputs": [],
   "source": [
    "def crea_visualizacion(datos):\n",
    "    _centro = geo_center(datos)\n",
    "    \n",
    "    m = Map(center = _centro, zoom = 5, basemap = basemaps.OpenStreetMap.BlackAndWhite, scroll_wheel_zoom = True, )\n",
    "    \n",
    "    for option in datos[\"bins\"].unique():\n",
    "        \n",
    "        option_data = datos[datos[\"bins\"] == option]\n",
    "        \n",
    "        geo_data = GeoData(\n",
    "            geo_dataframe = option_data,\n",
    "            style={'color': _escala[option], 'fillColor': _escala[option], 'opacity':0.35, 'weight':1.9, 'dashArray':'2', 'fillOpacity':0.7},  \n",
    "            hover_style={'fillColor': _escala[option] , 'fillOpacity': 0.9},\n",
    "            name = f'{option}'\n",
    "        )\n",
    "        \n",
    "        # add layers\n",
    "        m.add_layer(geo_data)\n",
    "    \n",
    "    m.add_control(LayersControl())\n",
    "        \n",
    "    return m"
   ]
  },
  {
   "cell_type": "markdown",
   "metadata": {},
   "source": [
    "<div class=‘ppic-blog-titlearea’>
<h1>Where are the nerds?</h1>
<div class='ppic-author-line'><span class='ppic-blog-authors'><a href='https://www.ppic.org/person/sergio-sanchez/'>Sergio Sánchez</a>, <a href='https://www.ppic.org/person/joseph-hayes/'>Joseph Hayes</a></span> <span class='ppic-date'>June 26, 2019</span></div>
</div>"
   ]
  },
  {
   "cell_type": "markdown",
   "metadata": {},
   "source": [
    "Lorem ipsum dolor amet dreamcatcher pabst DIY four loko disrupt. Disrupt literally deep v keytar banh mi live-edge kickstarter locavore af. Trust fund cray vexillologist drinking vinegar blog. Hoodie small batch chartreuse crucifix kickstarter health goth squid raclette 8-bit activated charcoal stumptown dreamcatcher glossier. Gochujang four loko church-key, brunch farm-to-table mlkshk."
   ]
  },
  {
   "cell_type": "markdown",
   "metadata": {},
   "source": [
    "Disrupt subway tile 8-bit listicle mlkshk man braid seitan normcore lyft ennui tumeric cronut twee. Chicharrones slow-carb cold-pressed franzen taiyaki jianbing gentrify four loko sartorial meditation swag narwhal. Prism blue bottle irony chicharrones fingerstache. Pop-up prism aesthetic, sriracha waistcoat tumblr wayfarers artisan biodiesel poke ramps."
   ]
  },
  {
   "cell_type": "markdown",
   "metadata": {},
   "source": [
    "Gastropub hashtag jianbing, man bun trust fund street art shaman kombucha retro master cleanse selvage 90's godard. Selfies echo park lumbersexual, migas sartorial four loko master fingerstache shoreditch try-hard. Shaman four loko stumptown viral, cold-pressed fixie pabst. Pickled master cleanse 90's williamsburg kombucha humblebrag wolf."
   ]
  },
  {
   "cell_type": "markdown",
   "metadata": {},
   "source": [
    "Portland listicle lumbersexual gentrify shoreditch chia snackwave ennui master cleanse pour-over succulents. Shabby chic vaporware normcore wayfarers."
   ]
  },
  {
   "cell_type": "code",
   "execution_count": 15,
   "metadata": {},
   "outputs": [
    {
     "data": {
      "application/vnd.jupyter.widget-view+json": {
       "model_id": "65785f1ae1a94c1d82184c69c14f8292",
       "version_major": 2,
       "version_minor": 0
      },
      "text/plain": [
       "Map(basemap={'url': 'http://{s}.tiles.wmflabs.org/bw-mapnik/{z}/{x}/{y}.png', 'max_zoom': 18, 'attribution': '…"
      ]
     },
     "metadata": {},
     "output_type": "display_data"
    }
   ],
   "source": [
    "crea_visualizacion(datos_female)"
   ]
  }
 ],
 "metadata": {
  "kernelspec": {
   "display_name": "Python 3",
   "language": "python",
   "name": "python3"
  },
  "language_info": {
   "codemirror_mode": {
    "name": "ipython",
    "version": 3
   },
   "file_extension": ".py",
   "mimetype": "text/x-python",
   "name": "python",
   "nbconvert_exporter": "python",
   "pygments_lexer": "ipython3",
   "version": "3.7.3"
  }
 },
 "nbformat": 4,
 "nbformat_minor": 2
}
